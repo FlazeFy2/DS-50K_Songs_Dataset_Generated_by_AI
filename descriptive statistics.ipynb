{
 "cells": [
  {
   "cell_type": "code",
   "execution_count": 2,
   "id": "332a40e9-bc68-482d-8f39-42489dd05628",
   "metadata": {},
   "outputs": [
    {
     "name": "stdout",
     "output_type": "stream",
     "text": [
      "Max of Duration : 433.0\n",
      "Min of Duration : 33.0\n",
      "Range of Duration : 400.0\n",
      "Mean of Duration : 239.66\n",
      "Mode of Duration : 237.0\n",
      "Variance of Duration : 2513.69\n",
      "Standard Deviance of Duration : 50.14\n",
      "\n",
      "Max of Stream : 99999128\n",
      "Min of Stream : 1899\n",
      "Range of Stream : 99997229\n",
      "Mean of Stream : 50244793.8\n",
      "Mode of Stream : 7987973\n",
      "Variance of Stream : 836701920912618.1\n",
      "Standard Deviance of Stream : 28925800.26\n",
      "\n"
     ]
    }
   ],
   "source": [
    "import pandas as pd\n",
    "import statistics\n",
    "import numpy as np\n",
    "\n",
    "# Declaration\n",
    "data = pd.read_csv(\"spotify_songs_dataset.csv\")\n",
    "\n",
    "target_col = ['duration','stream']\n",
    "\n",
    "for dt in target_col:\n",
    "    # Convert to int\n",
    "    data[dt] = pd.to_numeric(data[dt], errors='coerce')\n",
    "    \n",
    "    # Remove NaN\n",
    "    data = data.dropna(subset=[dt])\n",
    "\n",
    "    max_val = data[dt].max()\n",
    "    min_val = data[dt].min()\n",
    "    range_val = max_val - min_val\n",
    "    mean = round(data[dt].mean(),2)\n",
    "    mode = round(statistics.mode(data[dt]),2)\n",
    "    var = round(np.nanvar(data[dt],ddof=1),2)\n",
    "    std = round(var ** 0.5,2)\n",
    "\n",
    "    print(f\"Max of {dt.title()} : {max_val}\")\n",
    "    print(f\"Min of {dt.title()} : {min_val}\")\n",
    "    print(f\"Range of {dt.title()} : {range_val}\")\n",
    "    print(f\"Mean of {dt.title()} : {mean}\")\n",
    "    print(f\"Mode of {dt.title()} : {mode}\")\n",
    "    print(f\"Variance of {dt.title()} : {var}\")\n",
    "    print(f\"Standard Deviance of {dt.title()} : {std}\\n\")"
   ]
  },
  {
   "cell_type": "code",
   "execution_count": 34,
   "id": "1c22c146-7b81-4f68-889e-695b05355796",
   "metadata": {},
   "outputs": [
    {
     "name": "stdout",
     "output_type": "stream",
     "text": [
      "        Genre  Avg Duration  Number of Songs\n",
      "0      Reggae        240.84              866\n",
      "1        Jazz        240.40             2245\n",
      "2  Electronic        240.36            11301\n",
      "3         R&B        240.33             1358\n",
      "4        Folk        240.31             2286\n",
      "5     Hip-Hop        239.52            11087\n",
      "6   Classical        239.25             2270\n",
      "7         Pop        238.90            11308\n",
      "8     Country        238.79             2279\n"
     ]
    }
   ],
   "source": [
    "import pandas as pd\n",
    "\n",
    "# Declaration\n",
    "df = pd.read_csv(\"spotify_songs_dataset.csv\")\n",
    "\n",
    "# Most Genre and Average Duration\n",
    "top_context = df.groupby('genre').agg(\n",
    "    Average_Duration=('duration', 'mean'),  \n",
    "    Total_Songs=('duration', 'count')       \n",
    ").sort_values(by='Average_Duration', ascending=False)\n",
    "\n",
    "top_context['Average_Duration'] = top_context['Average_Duration'].round(2)\n",
    "top_context = top_context.reset_index()\n",
    "\n",
    "top_context = top_context.rename(columns={\n",
    "    'genre': 'Genre',\n",
    "    'Average_Duration': 'Avg Duration',\n",
    "    'Total_Songs': 'Number of Songs'\n",
    "})\n",
    "\n",
    "print(top_context)"
   ]
  },
  {
   "cell_type": "code",
   "execution_count": 36,
   "id": "57d91527-c7cd-4335-ae7a-7ee7aeefdf7d",
   "metadata": {},
   "outputs": [
    {
     "name": "stdout",
     "output_type": "stream",
     "text": [
      "   Language  Avg Duration  Number of Songs\n",
      "0    Korean        241.15             2073\n",
      "1    French        239.94             2136\n",
      "2   English        239.75            30028\n",
      "3   Spanish        239.60             4257\n",
      "4   Italian        239.46             1699\n",
      "5  Japanese        238.72             1274\n",
      "6    German        238.52             1277\n"
     ]
    }
   ],
   "source": [
    "import pandas as pd\n",
    "\n",
    "# Declaration\n",
    "df = pd.read_csv(\"spotify_songs_dataset.csv\")\n",
    "\n",
    "# Most Song Language and Average Duration\n",
    "top_context = df.groupby('language').agg(\n",
    "    Average_Duration=('duration', 'mean'),  \n",
    "    Total_Songs=('duration', 'count')       \n",
    ").sort_values(by='Average_Duration', ascending=False)\n",
    "\n",
    "top_context['Average_Duration'] = top_context['Average_Duration'].round(2)\n",
    "top_context = top_context.reset_index()\n",
    "\n",
    "top_context = top_context.rename(columns={\n",
    "    'language': 'Language',\n",
    "    'Average_Duration': 'Avg Duration',\n",
    "    'Total_Songs': 'Number of Songs'\n",
    "})\n",
    "\n",
    "print(top_context)"
   ]
  },
  {
   "cell_type": "code",
   "execution_count": null,
   "id": "a3d007d3-c37a-407f-8201-c32a527969e6",
   "metadata": {},
   "outputs": [],
   "source": []
  }
 ],
 "metadata": {
  "kernelspec": {
   "display_name": "Python [conda env:base] *",
   "language": "python",
   "name": "conda-base-py"
  },
  "language_info": {
   "codemirror_mode": {
    "name": "ipython",
    "version": 3
   },
   "file_extension": ".py",
   "mimetype": "text/x-python",
   "name": "python",
   "nbconvert_exporter": "python",
   "pygments_lexer": "ipython3",
   "version": "3.12.7"
  }
 },
 "nbformat": 4,
 "nbformat_minor": 5
}
